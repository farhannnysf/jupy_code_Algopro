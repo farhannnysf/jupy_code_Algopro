{
 "cells": [
  {
   "cell_type": "markdown",
   "id": "2b26c158-186f-4104-b82c-b9dd650b15e4",
   "metadata": {},
   "source": [
    "# Algorithms and Programming --  Assignment 1\n",
    "\n",
    "## Important: save this file in a specific sub-folder under your AlgoPro folder. For example, name that folder \"jupy_code\"  \n",
    "\n",
    "### First, change your NIM in the name of the file. Click <font color=\"red\">File -> Save as ... </font>\n",
    "\n",
    "Then fill the information below. To edit this cell, double click here.\n",
    "\n",
    "### Name: Burhanudin Yusuf Farhan\n",
    "### NIM: L200234233\n",
    "### GitHub address:https:https://github.com/farhannnysf/jupy_code_Algopro.git\n",
    "\n",
    "#### Complete the code below and run it. Press `Shift` + `Enter`"
   ]
  },
  {
   "cell_type": "code",
   "execution_count": 1,
   "id": "a67dd37c-574e-48dc-afec-df93fab14339",
   "metadata": {},
   "outputs": [
    {
     "name": "stdout",
     "output_type": "stream",
     "text": [
      "NAMA: Burhanudin yusuf Farhan\n",
      "NIM : L200234233\n",
      "Kota: Klaten\n",
      "Thu Oct 26 09:34:24 2023\n",
      "\n",
      "C:\\Users\\Acer\\Downloads\n",
      "C:\\Users\\Acer\\AppData\\Local\\Programs\\Python\\Python311\\python.exe\n",
      "3.11.5 (tags/v3.11.5:cce6ba9, Aug 24 2023, 14:38:34) [MSC v.1936 64 bit (AMD64)]\n",
      " Volume in drive C is Acer\n",
      " Volume Serial Number is 5C44-2161\n",
      "\n"
     ]
    }
   ],
   "source": [
    "from time import ctime\n",
    "from os import getcwd, popen\n",
    "import sys\n",
    "nama = \"Burhanudin yusuf Farhan\"    ## Replace with your name.\n",
    "NIM = \"L200234233\"     ## Replace with your NIM.\n",
    "kota = \"Klaten\"     ## Replace with your original city of residence.\n",
    "print(\"NAMA:\", nama)\n",
    "print(\"NIM :\", NIM)\n",
    "print(\"Kota:\", kota)\n",
    "print(ctime())\n",
    "print(\"\")\n",
    "print(getcwd())\n",
    "print(sys.executable)\n",
    "print(sys.version)\n",
    "print(popen(\"vol\").read())"
   ]
  },
  {
   "cell_type": "markdown",
   "id": "4869103e-1cad-4722-b35c-0551986d7dc3",
   "metadata": {},
   "source": [
    "# 1\n",
    "#### Using the while-loop construct, write code that will produce the output similar to the output in the cell that follows the code below.\n",
    "#### The 'Ahmad' and the '5' below are just examples of the keyboard input.\n",
    "#### If you put an 8 instead, then the multiplication will continue to \"8 times 8 is 64\".\n",
    "\n",
    "#### Note:\n",
    "The output below may disappear. You may want to do it first on another cell or on Thonny. \n",
    "\n",
    "Or, you can take a screenshot of the example output for your working reference. You can also \"save as\" this file as another ipynb file.\r\n",
    "\n",
    "\n"
   ]
  },
  {
   "cell_type": "code",
   "execution_count": 2,
   "id": "34dcc8c6-1933-416b-95f9-b82147019d1a",
   "metadata": {},
   "outputs": [
    {
     "name": "stdin",
     "output_type": "stream",
     "text": [
      "What is your name? > Burhanudin Yusuf farhan\n",
      "up to?  7\n"
     ]
    },
    {
     "name": "stdout",
     "output_type": "stream",
     "text": [
      "1 times 1 is 1\n",
      "2 times 2 is 4\n",
      "3 times 3 is 9\n",
      "4 times 4 is 16\n",
      "5 times 5 is 25\n",
      "6 times 6 is 36\n",
      "7 times 7 is 49\n",
      "thank you Burhanudin Yusuf farhan\n",
      "have a nice day!\n"
     ]
    }
   ],
   "source": [
    "## 1\n",
    "## your code below\n",
    "name = input(\"What is your name? >\")\n",
    "# ....\n",
    "p = int(input(\"up to? \"))\n",
    "k = 1\n",
    "while k < (p + 1):\n",
    "    print (f\"{k} times {k} is {k*k}\")\n",
    "    k += 1\n",
    "print(\"thank you \" + name)\n",
    "print(\"have a nice day!\")"
   ]
  },
  {
   "cell_type": "code",
   "execution_count": null,
   "id": "899b0187-1450-4949-8f0b-dfd07084f655",
   "metadata": {},
   "outputs": [],
   "source": []
  },
  {
   "cell_type": "markdown",
   "id": "30345071-5320-419a-9929-7fbec3c7715b",
   "metadata": {},
   "source": []
  },
  {
   "cell_type": "markdown",
   "id": "15d6ffd2-af4b-4a69-8c40-fc1c638856a7",
   "metadata": {},
   "source": [
    "# 2\n",
    "\n",
    "#### Copy your code above to the cell below, and modify it so that when the count is on any multiplicity of 5, it will additionally produce \"It is a multiple of 5\" text.\n",
    "#### An example is shown in the output cell.\n",
    "\n",
    "Again, the output below may disappear. You may want to do it first on Thonny."
   ]
  },
  {
   "cell_type": "code",
   "execution_count": 3,
   "id": "42e3c2e0-872a-4c07-ba3d-75c3e1ebd3a5",
   "metadata": {},
   "outputs": [
    {
     "name": "stdin",
     "output_type": "stream",
     "text": [
      "What is your name? > Burhanudin Yusuf Farhan\n",
      "up to?  10\n"
     ]
    },
    {
     "name": "stdout",
     "output_type": "stream",
     "text": [
      "1  times  1\n",
      "2  times  2\n",
      "3  times  3\n",
      "4  times  4\n",
      "5 times 5 is 25 it is a multiple of 5. \n",
      "6  times  6\n",
      "7  times  7\n",
      "8  times  8\n",
      "9  times  9\n",
      "10 times 10 is 100 it is a multiple of 5. \n",
      "thank you Burhanudin Yusuf Farhan\n",
      "have a nice day!\n"
     ]
    }
   ],
   "source": [
    "## 2\n",
    "## your code below\n",
    "name = input(\"What is your name? >\")\n",
    "# ...\n",
    "p = int(input(\"up to? \"))\n",
    "k = 1\n",
    "while k < (p+1):\n",
    "    if k % 5 == 0:\n",
    "        print(f\"{k} times {k} is {k*k} it is a multiple of 5. \")\n",
    "    else:\n",
    "        print(k , \" times \", k)\n",
    "    k += 1\n",
    "print(\"thank you \" + name)\n",
    "print(\"have a nice day!\")\n"
   ]
  },
  {
   "cell_type": "code",
   "execution_count": 4,
   "id": "b619306e-288c-43c5-a695-767c9b0307c1",
   "metadata": {},
   "outputs": [
    {
     "name": "stdin",
     "output_type": "stream",
     "text": [
      "What is your name? > Burhanudin Yusuf Farhan\n",
      "up to?  23\n"
     ]
    },
    {
     "name": "stdout",
     "output_type": "stream",
     "text": [
      "1 times 1 is 1\n",
      "2 times 2 is 4\n",
      "3 times 3 is 9\n",
      "4 times 4 is 16\n",
      "5 times 5 is 25\n",
      "6 times 6 is 36\n",
      "7 times 7 is 49\n",
      "8 times 8 is 64\n",
      "9 times 9 is 81\n",
      "10 times 10 is 100\n",
      "11 times 11 is 121\n",
      "12 times 12 is 144\n",
      "13 times 13 is 169\n",
      "14 times 14 is 196\n",
      "15 times 15 is 225\n",
      "16 times 16 is 256\n",
      "17 times 17 is 289\n",
      "18 times 18 is 324\n",
      "19 times 19 is 361\n",
      "20 times 20 is 400\n",
      "21 times 21 is 441\n",
      "22 times 22 is 484\n",
      "23 times 23 is 529\n",
      "thank you Burhanudin Yusuf Farhan\n",
      "have a nice day!\n"
     ]
    }
   ],
   "source": [
    "## 2\n",
    "## your code below\n",
    "name = input(\"What is your name? >\")\n",
    "# ...\n",
    "p = int(input(\"up to? \"))\n",
    "for i in range (1, p + 1):\n",
    "    square = i * i\n",
    "    k = f\"{i} times {i} is {square}\"\n",
    "    print(k)\n",
    "print(\"thank you \" + name)\n",
    "print(\"have a nice day!\")"
   ]
  },
  {
   "cell_type": "code",
   "execution_count": null,
   "id": "b9d9fd51-03c8-4b87-a042-63018ad205ba",
   "metadata": {},
   "outputs": [],
   "source": []
  },
  {
   "cell_type": "code",
   "execution_count": null,
   "id": "1052bd35-911b-40d0-9bc6-0dd6144337bf",
   "metadata": {},
   "outputs": [],
   "source": []
  },
  {
   "cell_type": "markdown",
   "id": "40311218-fd27-42c0-a7e1-897c3b389f2d",
   "metadata": {},
   "source": [
    "# For-loops\n",
    "\n",
    "Now consider the following code and its output. Play with it."
   ]
  },
  {
   "cell_type": "code",
   "execution_count": 5,
   "id": "5ca8222e-992f-4e61-bad8-54042fdfaf5b",
   "metadata": {},
   "outputs": [
    {
     "name": "stdout",
     "output_type": "stream",
     "text": [
      "0\n",
      "1\n",
      "2\n",
      "3\n",
      "4\n",
      "5\n",
      "6\n"
     ]
    }
   ],
   "source": [
    "n = 7\n",
    "b = range(n)\n",
    "for i in b:\n",
    "    print(i)"
   ]
  },
  {
   "cell_type": "markdown",
   "id": "faf7f59f-9af1-4bfc-9778-31e469404dba",
   "metadata": {},
   "source": [
    "# 3\n",
    "\n",
    "Redo Question 1 above using the for-loop construct."
   ]
  },
  {
   "cell_type": "code",
   "execution_count": 6,
   "id": "2b60f413-f211-468a-abab-fd506996d8a6",
   "metadata": {},
   "outputs": [
    {
     "name": "stdin",
     "output_type": "stream",
     "text": [
      "What is your name? > Burhanudin Yusuf Farhan\n",
      "up to?  9\n"
     ]
    },
    {
     "name": "stdout",
     "output_type": "stream",
     "text": [
      "1 times 1 is 1\n",
      "2 times 2 is 4\n",
      "3 times 3 is 9\n",
      "4 times 4 is 16\n",
      "5 times 5 is 25\n",
      "6 times 6 is 36\n",
      "7 times 7 is 49\n",
      "8 times 8 is 64\n",
      "9 times 9 is 81\n",
      "thank you Burhanudin Yusuf Farhan\n",
      "have a nice day!\n"
     ]
    }
   ],
   "source": [
    "## 3\n",
    "## your code below\n",
    "name = input(\"What is your name? >\")\n",
    "# ...\n",
    "p = int(input(\"up to? \"))\n",
    "for i in range (1, p + 1):\n",
    "    square = i * i\n",
    "    k = f\"{i} times {i} is {square}\"\n",
    "    print(k)\n",
    "print(\"thank you \" + name)\n",
    "print(\"have a nice day!\")"
   ]
  },
  {
   "cell_type": "code",
   "execution_count": null,
   "id": "bb17cb0d-d059-40a4-bbe2-18eb8158b784",
   "metadata": {},
   "outputs": [],
   "source": []
  },
  {
   "cell_type": "code",
   "execution_count": null,
   "id": "a2a89ab0-e50e-4b61-9685-a77a1928882d",
   "metadata": {},
   "outputs": [],
   "source": []
  },
  {
   "cell_type": "markdown",
   "id": "9276e977-3b40-4d5f-ac13-27523e6908ea",
   "metadata": {},
   "source": [
    "# 4\n",
    "\n",
    "Redo Question 2 above using the for-loop construct."
   ]
  },
  {
   "cell_type": "code",
   "execution_count": 7,
   "id": "079680ec-5b2a-48c5-be3e-4f0a2d8fc02b",
   "metadata": {},
   "outputs": [
    {
     "name": "stdin",
     "output_type": "stream",
     "text": [
      "What is your name? > Burhanudin Yusuf Farhan\n",
      "up to?  13\n"
     ]
    },
    {
     "name": "stdout",
     "output_type": "stream",
     "text": [
      "1 times 1 is 1\n",
      "2 times 2 is 4\n",
      "3 times 3 is 9\n",
      "4 times 4 is 16\n",
      "5 times 5 is 25 . it is a multiple of 5.\n",
      "6 times 6 is 36\n",
      "7 times 7 is 49\n",
      "8 times 8 is 64\n",
      "9 times 9 is 81\n",
      "10 times 10 is 100 . it is a multiple of 5.\n",
      "11 times 11 is 121\n",
      "12 times 12 is 144\n",
      "13 times 13 is 169\n",
      "thank you Burhanudin Yusuf Farhan\n",
      "have a nice day!\n"
     ]
    }
   ],
   "source": [
    "## 4\n",
    "## your code below\n",
    "name = input(\"What is your name? >\")\n",
    "# ...\n",
    "p = int(input(\"up to? \"))\n",
    "for i in range(1, p + 1):\n",
    "    square = i * i\n",
    "    k = f\"{i} times {i} is {square}\"\n",
    "    if square % 5 == 0:\n",
    "        print(k, \". it is a multiple of 5.\")\n",
    "    else:\n",
    "        print(k)\n",
    "print(\"thank you \" + name)\n",
    "print(\"have a nice day!\")"
   ]
  },
  {
   "cell_type": "code",
   "execution_count": null,
   "id": "1a1ac059-92fe-4622-bf13-ca913e6a5f4a",
   "metadata": {},
   "outputs": [],
   "source": []
  },
  {
   "cell_type": "code",
   "execution_count": null,
   "id": "18348d02-47c4-40b5-b04e-1d2eed0829da",
   "metadata": {},
   "outputs": [],
   "source": []
  },
  {
   "cell_type": "code",
   "execution_count": null,
   "id": "4f341e4e-ad65-4d52-806b-4620d4e19633",
   "metadata": {},
   "outputs": [],
   "source": []
  },
  {
   "cell_type": "markdown",
   "id": "85da5029-0a04-4687-bf07-a57115d5f5c8",
   "metadata": {},
   "source": [
    "# _End of assignment._\n",
    "### Run again once more time (and respond to the prompts). Then, after saving the file:\n",
    "## PUSH your code to GitHub,\n",
    "## and check your GitHub page. Ensure that your work is displayed properly."
   ]
  },
  {
   "cell_type": "code",
   "execution_count": null,
   "id": "a7092d0d-c62d-4ebd-93d0-b77b9a00cbc7",
   "metadata": {},
   "outputs": [],
   "source": []
  }
 ],
 "metadata": {
  "kernelspec": {
   "display_name": "Python 3 (ipykernel)",
   "language": "python",
   "name": "python3"
  },
  "language_info": {
   "codemirror_mode": {
    "name": "ipython",
    "version": 3
   },
   "file_extension": ".py",
   "mimetype": "text/x-python",
   "name": "python",
   "nbconvert_exporter": "python",
   "pygments_lexer": "ipython3",
   "version": "3.11.5"
  }
 },
 "nbformat": 4,
 "nbformat_minor": 5
}
